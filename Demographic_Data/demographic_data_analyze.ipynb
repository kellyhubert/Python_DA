{
 "cells": [
  {
   "cell_type": "code",
   "execution_count": 5,
   "id": "ba0d06c1-a1de-4dcc-ba85-ec41d3ece050",
   "metadata": {},
   "outputs": [
    {
     "name": "stdout",
     "output_type": "stream",
     "text": [
      "   age        workclass  fnlwgt  education  education-num  \\\n",
      "0   39        state-gov   77516  Bachelors             13   \n",
      "1   50  self-em-not-inc   83311  Bachelors             13   \n",
      "2   38          private  215646    HS-grad              9   \n",
      "3   53          private  234721       11th              7   \n",
      "4   28          private  338409  Bachelors             13   \n",
      "\n",
      "        martial-status         Occupation   relationship   race     sex  \\\n",
      "0        Never-married       Adm-clerical  Not-in-family  White    Male   \n",
      "1   Married-civ-spouse    Exec-managerial        Husband  White    Male   \n",
      "2             Divorced  Handlers-cleaners  Not-in-family  White    Male   \n",
      "3   Married-civ-spouse  Handlers-Cleaners        Husband  Black    Male   \n",
      "4  Married-civ-spoouse     Prof-specialty           wife  Black  Female   \n",
      "\n",
      "   Capital-gain  Capital-loss  hours-per-week native-country salary  \n",
      "0          2174             0              40  United-states  <=50k  \n",
      "1             0             0              13  United-states  <=50k  \n",
      "2             0             0              40  united-states  <=50k  \n",
      "3             0             0              40  united-states  <=50k  \n",
      "4             0             0              40           cuba  <=50k  \n"
     ]
    }
   ],
   "source": [
    "import pandas as pd\n",
    "\n",
    "data= {\n",
    "    \"age\": [39,50,38,53,28],\n",
    "    \"workclass\": [\"state-gov\",\"self-em-not-inc\",\"private\",\"private\",\"private\"],\n",
    "    \"fnlwgt\":[77516,83311,215646,234721,338409],\n",
    "    \"education\":[\"Bachelors\",\"Bachelors\",\"HS-grad\",\"11th\",\"Bachelors\"],\n",
    "    \"education-num\":[13,13,9,7,13],\n",
    "    \"martial-status\":[\n",
    "        \"Never-married\",\n",
    "        \"Married-civ-spouse\",\n",
    "        \"Divorced\",\n",
    "        \"Married-civ-spouse\",\n",
    "        \"Married-civ-spoouse\",\n",
    "    ],\n",
    "    \"Occupation\":[\n",
    "    \"Adm-clerical\",\n",
    "    \"Exec-managerial\",\n",
    "    \"Handlers-cleaners\",\n",
    "    \"Handlers-Cleaners\",\n",
    "    \"Prof-specialty\",\n",
    "    ],\n",
    "   \"relationship\":[\n",
    "       \"Not-in-family\",\n",
    "       \"Husband\",\n",
    "       \"Not-in-family\",\n",
    "       \"Husband\",\n",
    "       \"wife\",\n",
    "   ],\n",
    "  \"race\": [\"White\",\"White\",\"White\",\"Black\",\"Black\"],\n",
    "  \"sex\":[\"Male\", \"Male\", \"Male\",\"Male\",\"Female\"],\n",
    "  \"Capital-gain\":[2174,0,0,0,0],\n",
    "  \"Capital-loss\":[0,0,0,0,0],\n",
    "  \"hours-per-week\":[40,13,40,40,40],\n",
    "  \"native-country\":[\n",
    "      \"United-states\",\n",
    "      \"United-states\",\n",
    "      \"united-states\",\n",
    "      \"united-states\",\n",
    "      \"cuba\",\n",
    "  ],\n",
    "  \"salary\":[\"<=50k\",\"<=50k\",\"<=50k\",\"<=50k\",\"<=50k\"],\n",
    "}\n",
    "df = pd.DataFrame(data)\n",
    "print(df)"
   ]
  },
  {
   "cell_type": "markdown",
   "id": "0d003eb6",
   "metadata": {},
   "source": [
    "#1 How many peole of each race are represented in this dataset"
   ]
  },
  {
   "cell_type": "code",
   "execution_count": 8,
   "id": "abde6774",
   "metadata": {},
   "outputs": [
    {
     "name": "stdout",
     "output_type": "stream",
     "text": [
      "Race counts:\n",
      " race\n",
      "White    3\n",
      "Black    2\n",
      "Name: count, dtype: int64\n"
     ]
    }
   ],
   "source": [
    "race_counts =df[\"race\"].value_counts()\n",
    "\n",
    "print(\"Race counts:\\n\",race_counts)\n"
   ]
  },
  {
   "cell_type": "markdown",
   "id": "e581587c",
   "metadata": {},
   "source": [
    "#what is the average of men"
   ]
  },
  {
   "cell_type": "code",
   "execution_count": 9,
   "id": "b5f29b25",
   "metadata": {},
   "outputs": [
    {
     "name": "stdout",
     "output_type": "stream",
     "text": [
      "Average age of men: 45.0\n"
     ]
    }
   ],
   "source": [
    "average_age_men=df[df[\"sex\"]==\"Male\"][\"age\"].mean()\n",
    "print(\"Average age of men:\",average_age_men)"
   ]
  },
  {
   "cell_type": "markdown",
   "id": "62348457",
   "metadata": {},
   "source": [
    "#what is the percentage of people who have BAchelors degree"
   ]
  },
  {
   "cell_type": "code",
   "execution_count": 10,
   "id": "bb64a099",
   "metadata": {},
   "outputs": [
    {
     "name": "stdout",
     "output_type": "stream",
     "text": [
      "percentage woth bachelor's ddegree: 60.0\n"
     ]
    }
   ],
   "source": [
    "bachelors_percentage= (df[\"education\"]==\"Bachelors\").mean()*100\n",
    "print(\"percentage woth bachelor's ddegree:\", bachelors_percentage)"
   ]
  },
  {
   "cell_type": "markdown",
   "id": "fb2dc571",
   "metadata": {},
   "source": [
    "#what is the percentage of people with highy education "
   ]
  },
  {
   "cell_type": "code",
   "execution_count": 11,
   "id": "0ce7c0b2",
   "metadata": {},
   "outputs": [
    {
     "name": "stdout",
     "output_type": "stream",
     "text": [
      "percentage with advanced education making >50K: 0.0\n"
     ]
    }
   ],
   "source": [
    "advanced_education =df[\"education\"].isin([\"Bachelors\", \"Masters\",\"Doctorate\"])\n",
    "percentage_advanced_edu_high_salary = ( (df[advanced_education & (df[\"salary\"] == \">50k\")].shape[0] / df[advanced_education].shape[0])*100)\n",
    "print(\"percentage with advanced education making >50K:\",percentage_advanced_edu_high_salary)"
   ]
  },
  {
   "cell_type": "markdown",
   "id": "5702bc7c",
   "metadata": {},
   "source": [
    "#what is the percentage of people without  advanced education make more than 50K"
   ]
  },
  {
   "cell_type": "code",
   "execution_count": 12,
   "id": "18cfcd82",
   "metadata": {},
   "outputs": [
    {
     "name": "stdout",
     "output_type": "stream",
     "text": [
      "pecentage without advanced education making >50K: 0.0\n"
     ]
    }
   ],
   "source": [
    "percentage_non_advanced_edu_high_salary = (\n",
    "    (df[~advanced_education & (df[\"salary\"] ==\">50k\")].shape[0] / df[~advanced_education].shape[0])*100)\n",
    "print(\"pecentage without advanced education making >50K:\",percentage_non_advanced_edu_high_salary)"
   ]
  },
  {
   "cell_type": "markdown",
   "id": "d44280f7",
   "metadata": {},
   "source": [
    "#whatbis number of minimum number of hours a person works per week"
   ]
  },
  {
   "cell_type": "code",
   "execution_count": 13,
   "id": "6c305cf2",
   "metadata": {},
   "outputs": [
    {
     "name": "stdout",
     "output_type": "stream",
     "text": [
      "Minimum hours worked per week: 13\n"
     ]
    }
   ],
   "source": [
    "min_hours_per_week= df[\"hours-per-week\"].min()\n",
    "print(\"Minimum hours worked per week:\", min_hours_per_week)"
   ]
  },
  {
   "cell_type": "markdown",
   "id": "2ae8eebc",
   "metadata": {},
   "source": [
    "#what is the percentage of people who work the minimum nnumber of hours per week have a salary of more than 50k"
   ]
  },
  {
   "cell_type": "code",
   "execution_count": null,
   "id": "040251fe",
   "metadata": {},
   "outputs": [
    {
     "name": "stdout",
     "output_type": "stream",
     "text": [
      "PErcentage of those working minimum hours and earning >50k: 0.0\n"
     ]
    }
   ],
   "source": [
    "min_hours_workers =df[df[\"hours-per-week\"] == min_hours_per_week]\n",
    "percentage_min_hours_high_salary =(\n",
    "    min_hours_workers[min_hours_workers[\"salary\"] == \">50k\"].shape[0] /min_hours_workers.shape[0]*100)\n",
    "print(\"Percentage of those working minimum hours and earning >50k:\", percentage_min_hours_high_salary)"
   ]
  },
  {
   "cell_type": "markdown",
   "id": "0226d682",
   "metadata": {},
   "source": [
    "what is the percentage of people working the minimum number of hours that earn >50k and what is tha percentage"
   ]
  },
  {
   "cell_type": "code",
   "execution_count": 16,
   "id": "a1059fd6",
   "metadata": {},
   "outputs": [
    {
     "name": "stdout",
     "output_type": "stream",
     "text": [
      "country with the highest percentage of >50K earning: United-states\n",
      "Highest percentage of >50K earners: 0.0\n"
     ]
    }
   ],
   "source": [
    "country_earning_high= df[df[\"salary\"]==\">50k\"][\"native-country\"].value_counts()\n",
    "country_total = df[\"native-country\"].value_counts()\n",
    "\n",
    "\n",
    "earning_percentage=(\n",
    "    country_earning_high.reindex(country_total.index,fill_value=0)/country_total *100)\n",
    "\n",
    "highest_earning_country =earning_percentage.dropna().idxmax()\n",
    "highest_earning_country_percentage = earning_percentage.dropna().max()\n",
    "\n",
    "print(\"country with the highest percentage of >50K earning:\", highest_earning_country)\n",
    "print(\"Highest percentage of >50K earners:\", highest_earning_country_percentage)"
   ]
  },
  {
   "cell_type": "markdown",
   "id": "9a77beb6",
   "metadata": {},
   "source": [
    "indetifiying the most popular occupation for those who earn >50k in india"
   ]
  },
  {
   "cell_type": "code",
   "execution_count": 17,
   "id": "5cb70df2-8447-4776-909f-7e19fa372537",
   "metadata": {},
   "outputs": [
    {
     "name": "stdout",
     "output_type": "stream",
     "text": [
      "Most popular occupation for >50K earners in India: None\n"
     ]
    }
   ],
   "source": [
    "popular_occupation_india = (\n",
    "    df[(df[\"salary\"] == \">50k\") & (df[\"native_country\"] == \"India\")][\"occupation\"].value_counts().idmax()\n",
    "    if not df[(df[\"salary\"] == \">50k\") & (df[\"native-country\"] ==\"India\")].empty\n",
    "    else None)\n",
    "print(\"Most popular occupation for >50K earners in India:\", popular_occupation_india)"
   ]
  }
 ],
 "metadata": {
  "kernelspec": {
   "display_name": "Python 3",
   "language": "python",
   "name": "python3"
  },
  "language_info": {
   "codemirror_mode": {
    "name": "ipython",
    "version": 3
   },
   "file_extension": ".py",
   "mimetype": "text/x-python",
   "name": "python",
   "nbconvert_exporter": "python",
   "pygments_lexer": "ipython3",
   "version": "3.11.9"
  }
 },
 "nbformat": 4,
 "nbformat_minor": 5
}
